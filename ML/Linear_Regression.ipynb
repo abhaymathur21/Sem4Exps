{
  "cells": [
    {
      "cell_type": "code",
      "execution_count": 1,
      "metadata": {
        "colab": {
          "base_uri": "https://localhost:8080/",
          "height": 230
        },
        "id": "JXYyqBq6vo80",
        "outputId": "53e6064d-97d2-42ed-ff83-343ca84d79ee"
      },
      "outputs": [
        {
          "name": "stdout",
          "output_type": "stream",
          "text": [
            "(5, 2)\n"
          ]
        },
        {
          "data": {
            "text/html": [
              "<div>\n",
              "<style scoped>\n",
              "    .dataframe tbody tr th:only-of-type {\n",
              "        vertical-align: middle;\n",
              "    }\n",
              "\n",
              "    .dataframe tbody tr th {\n",
              "        vertical-align: top;\n",
              "    }\n",
              "\n",
              "    .dataframe thead th {\n",
              "        text-align: right;\n",
              "    }\n",
              "</style>\n",
              "<table border=\"1\" class=\"dataframe\">\n",
              "  <thead>\n",
              "    <tr style=\"text-align: right;\">\n",
              "      <th></th>\n",
              "      <th>X</th>\n",
              "      <th>Y</th>\n",
              "    </tr>\n",
              "  </thead>\n",
              "  <tbody>\n",
              "    <tr>\n",
              "      <th>0</th>\n",
              "      <td>1</td>\n",
              "      <td>3</td>\n",
              "    </tr>\n",
              "    <tr>\n",
              "      <th>1</th>\n",
              "      <td>2</td>\n",
              "      <td>4</td>\n",
              "    </tr>\n",
              "    <tr>\n",
              "      <th>2</th>\n",
              "      <td>3</td>\n",
              "      <td>2</td>\n",
              "    </tr>\n",
              "    <tr>\n",
              "      <th>3</th>\n",
              "      <td>4</td>\n",
              "      <td>4</td>\n",
              "    </tr>\n",
              "    <tr>\n",
              "      <th>4</th>\n",
              "      <td>5</td>\n",
              "      <td>5</td>\n",
              "    </tr>\n",
              "  </tbody>\n",
              "</table>\n",
              "</div>"
            ],
            "text/plain": [
              "   X  Y\n",
              "0  1  3\n",
              "1  2  4\n",
              "2  3  2\n",
              "3  4  4\n",
              "4  5  5"
            ]
          },
          "execution_count": 1,
          "metadata": {},
          "output_type": "execute_result"
        }
      ],
      "source": [
        "import numpy as np\n",
        "import matplotlib.pyplot as plt\n",
        "import pandas as pd\n",
        "ds = pd.read_csv(\"exp1.csv\")\n",
        "print(ds.shape)\n",
        "ds"
      ]
    },
    {
      "cell_type": "code",
      "execution_count": 2,
      "metadata": {
        "id": "qgnQfxF814Cl"
      },
      "outputs": [],
      "source": [
        "x=np.array(ds[\"X\"])\n",
        "y=np.array(ds[\"Y\"])\n",
        "x_mn=x.mean()\n",
        "y_mn=y.mean()"
      ]
    },
    {
      "cell_type": "code",
      "execution_count": 3,
      "metadata": {
        "colab": {
          "base_uri": "https://localhost:8080/"
        },
        "id": "lQxUdhuW6QQb",
        "outputId": "8e6dafe0-590f-4388-b91a-2ec3a019be45"
      },
      "outputs": [
        {
          "name": "stdout",
          "output_type": "stream",
          "text": [
            "0.4 2.4\n"
          ]
        },
        {
          "data": {
            "text/plain": [
              "[2.8, 3.2, 3.6, 4.0, 4.4]"
            ]
          },
          "execution_count": 3,
          "metadata": {},
          "output_type": "execute_result"
        }
      ],
      "source": [
        "nr=0 #numerator\n",
        "dr=0 #denominator\n",
        "for i in range(len(x)):\n",
        "  nr+=(x[i]-x_mn)*(y[i]-y_mn)\n",
        "  dr+=(x[i]-x_mn)*(x[i]-x_mn)\n",
        "m=nr/dr\n",
        "c = y_mn - m*x_mn \n",
        "print(m,c)\n",
        "\n",
        "yp=[] #predicted y values array\n",
        "for i in range(len(x)):\n",
        "  a = m*x[i] + c\n",
        "  yp.append(a)\n",
        "yp"
      ]
    },
    {
      "cell_type": "code",
      "execution_count": 4,
      "metadata": {
        "colab": {
          "base_uri": "https://localhost:8080/",
          "height": 265
        },
        "id": "YajxYBZi-wCR",
        "outputId": "8ae8b3d4-ccad-4c52-efb3-570872b8bd4e"
      },
      "outputs": [
        {
          "data": {
            "image/png": "[encoded data removed]",
            "text/plain": [
              "<Figure size 640x480 with 1 Axes>"
            ]
          },
          "metadata": {},
          "output_type": "display_data"
        }
      ],
      "source": [
        "plt.scatter(x,y)\n",
        "plt.plot(x,yp)\n",
        "plt.grid(True)\n",
        "plt.show()"
      ]
    },
    {
      "cell_type": "code",
      "execution_count": 5,
      "metadata": {
        "id": "5LhCsMmJCyFP"
      },
      "outputs": [],
      "source": [
        "lr = 0.001\n",
        "m=0\n",
        "c=0\n",
        "epochs=100\n",
        "n=len(x)"
      ]
    },
    {
      "cell_type": "code",
      "execution_count": 6,
      "metadata": {
        "colab": {
          "base_uri": "https://localhost:8080/"
        },
        "id": "bucnwS8GDhXF",
        "outputId": "75ea03a0-2d3e-4025-96a4-95665f2fc88e"
      },
      "outputs": [
        {
          "name": "stdout",
          "output_type": "stream",
          "text": [
            "0.9382906961355992 [1 2 3 4 5]\n"
          ]
        }
      ],
      "source": [
        "dm=0\n",
        "dc=0\n",
        "\n",
        "for j in range(epochs):\n",
        "  #dm=0\n",
        "  #dc=0\n",
        "  for j in range(n):\n",
        "    yp=m*x[i]+c\n",
        "    dm+=(y[i]-yp)*x[i]\n",
        "    dc+=(y[i]-yp)\n",
        "    dm*=float((-1)*2/n)\n",
        "    dc*=float((-1)*2/n)\n",
        "    m-=(lr*dm)\n",
        "    c-=(lr*dc)\n",
        "\n",
        "print(m,x)"
      ]
    },
    {
      "cell_type": "code",
      "execution_count": 7,
      "metadata": {
        "colab": {
          "base_uri": "https://localhost:8080/"
        },
        "id": "S4pGKQnmFYEn",
        "outputId": "9ab5c353-dc93-4c90-b1ac-2304c782918a"
      },
      "outputs": [
        {
          "name": "stdout",
          "output_type": "stream",
          "text": [
            "[1.1259488353627192, 2.0642395314983184, 3.0025302276339176, 3.940820923769517, 4.879111619905116]\n"
          ]
        }
      ],
      "source": [
        "y_p=[]\n",
        "for i in range(5):\n",
        "  y_c = m*x[i] + c\n",
        "  y_p.append(y_c)\n",
        "print(y_p)"
      ]
    },
    {
      "cell_type": "code",
      "execution_count": 8,
      "metadata": {
        "colab": {
          "base_uri": "https://localhost:8080/",
          "height": 265
        },
        "id": "6G9xOkDsFmyD",
        "outputId": "1cc938bf-03e2-4f15-c8de-feb8e8d27559"
      },
      "outputs": [
        {
          "data": {
            "image/png": "[encoded data removed]",
            "text/plain": [
              "<Figure size 640x480 with 1 Axes>"
            ]
          },
          "metadata": {},
          "output_type": "display_data"
        }
      ],
      "source": [
        "plt.scatter(x,y)\n",
        "plt.plot(x,y_p)\n",
        "plt.grid(True)\n",
        "plt.show()"
      ]
    }
  ],
  "metadata": {
    "colab": {
      "provenance": []
    },
    "kernelspec": {
      "display_name": "Python 3",
      "name": "python3"
    },
    "language_info": {
      "codemirror_mode": {
        "name": "ipython",
        "version": 3
      },
      "file_extension": ".py",
      "mimetype": "text/x-python",
      "name": "python",
      "nbconvert_exporter": "python",
      "pygments_lexer": "ipython3",
      "version": "3.11.3"
    }
  },
  "nbformat": 4,
  "nbformat_minor": 0
}
