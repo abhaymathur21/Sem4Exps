{
 "cells": [
  {
   "cell_type": "code",
   "execution_count": 1,
   "metadata": {},
   "outputs": [],
   "source": [
    "import numpy as np\n",
    "import pandas as pd"
   ]
  },
  {
   "cell_type": "code",
   "execution_count": 2,
   "metadata": {},
   "outputs": [
    {
     "name": "stdout",
     "output_type": "stream",
     "text": [
      "       Income     Age House\n",
      "0   Very High   Young   Yes\n",
      "1        High  Medium   Yes\n",
      "2         Low   Young    No\n",
      "3        High  Medium   Yes\n",
      "4   Very High  Medium   Yes\n",
      "5      Medium   Young   Yes\n",
      "6        High     Old   Yes\n",
      "7      Medium  Medium    No\n",
      "8         Low     Old    No\n",
      "9         Low   Young    No\n",
      "10       High   Young   Yes\n",
      "11     Medium     Old    No\n"
     ]
    }
   ],
   "source": [
    "data = pd.read_csv('data_gini.csv')\n",
    "print(data)"
   ]
  },
  {
   "cell_type": "code",
   "execution_count": 4,
   "metadata": {},
   "outputs": [],
   "source": [
    "def G(df:pd.DataFrame,target):\n",
    "    counts = df[target].value_counts()\n",
    "    gini = 1 - ((counts/counts.sum())**2).sum()\n",
    "    return gini  "
   ]
  },
  {
   "cell_type": "code",
   "execution_count": 5,
   "metadata": {},
   "outputs": [],
   "source": [
    "def cart_tree(df: pd.DataFrame, target):\n",
    "    features = df.drop([target], axis=1).columns\n",
    "    values = {x: df[x].unique() for x in df}\n",
    "\n",
    "    Gini = {}\n",
    "\n",
    "    min_feature = features[0]\n",
    "    min_ai = 10\n",
    "\n",
    "    for feature in features:\n",
    "        gi = pd.Series({v: G(df[df[feature] == v], target)\n",
    "                       for v in values[feature]})\n",
    "\n",
    "        counts = [len(df[df[feature] == v]) for v in gi.index]\n",
    "        ai = (gi * counts / len(df)).sum()\n",
    "\n",
    "        Gini[feature] = gi\n",
    "\n",
    "        if ai < min_ai:\n",
    "            min_feature = feature\n",
    "            min_ai = ai\n",
    "\n",
    "    min_g = Gini[min_feature]\n",
    "    return {min_feature: {v: (df[df[min_feature] == v][target].value_counts().to_dict() if min_g[v] == 0 else cart_tree(df[df[min_feature] == v].drop(columns=[min_feature]), target))\n",
    "                          for v in min_g.index}}\n",
    "\n",
    "\n",
    "def print_tree(tree, features, depth):\n",
    "    for k in tree:\n",
    "        if (type(tree[k]) == dict):\n",
    "            if k in features:\n",
    "                print('\\t'*depth, f'[{k}]:', end=' ')\n",
    "            else:\n",
    "                print('\\t'*depth, k, ':', end=' ')\n",
    "            tkk = list(tree[k].keys())\n",
    "            if (len(tkk) > 1 or tkk[0] in features):\n",
    "                print()\n",
    "            print_tree(tree[k], features, depth+1)\n",
    "        else:\n",
    "            print(k)     "
   ]
  },
  {
   "cell_type": "code",
   "execution_count": 6,
   "metadata": {},
   "outputs": [
    {
     "name": "stdout",
     "output_type": "stream",
     "text": [
      " [Income]: \n",
      "\t Very High : Yes\n",
      "\t High : Yes\n",
      "\t Low : No\n",
      "\t Medium : \n",
      "\t\t [Age]: \n",
      "\t\t\t Young : Yes\n",
      "\t\t\t Medium : No\n",
      "\t\t\t Old : No\n"
     ]
    }
   ],
   "source": [
    "def CART(df: pd.DataFrame, target):\n",
    "    Tree = cart_tree(df, target)\n",
    "    print_tree(Tree, df.drop(columns=[target]).columns, 0)\n",
    "\n",
    "CART(data,'House')"
   ]
  },
  {
   "cell_type": "code",
   "execution_count": 7,
   "metadata": {},
   "outputs": [
    {
     "name": "stdout",
     "output_type": "stream",
     "text": [
      " [Outlook]: \n",
      "\t Sunny : \n",
      "\t\t [Humidity]: \n",
      "\t\t\t High : No\n",
      "\t\t\t Normal : Yes\n",
      "\t Overcast : Yes\n",
      "\t Rain : \n",
      "\t\t [Wind]: \n",
      "\t\t\t Weak : Yes\n",
      "\t\t\t Strong : No\n"
     ]
    }
   ],
   "source": [
    "tennis = pd.read_csv('./Tennis.csv')\n",
    "CART(tennis,'Play')"
   ]
  },
  {
   "cell_type": "code",
   "execution_count": 12,
   "metadata": {},
   "outputs": [
    {
     "name": "stdout",
     "output_type": "stream",
     "text": [
      " [odor]: \n",
      "\t p : p\n",
      "\t a : e\n",
      "\t l : e\n",
      "\t n : \n",
      "\t\t [spore-print-color]: \n",
      "\t\t\t n : e\n",
      "\t\t\t k : e\n",
      "\t\t\t w : \n",
      "\t\t\t\t [habitat]: \n",
      "\t\t\t\t\t w : e\n",
      "\t\t\t\t\t l : \n",
      "\t\t\t\t\t\t [cap-color]: \n",
      "\t\t\t\t\t\t\t c : e\n",
      "\t\t\t\t\t\t\t n : e\n",
      "\t\t\t\t\t\t\t w : p\n",
      "\t\t\t\t\t\t\t y : p\n",
      "\t\t\t\t\t d : \n",
      "\t\t\t\t\t\t [gill-size]: \n",
      "\t\t\t\t\t\t\t n : p\n",
      "\t\t\t\t\t\t\t b : e\n",
      "\t\t\t\t\t g : e\n",
      "\t\t\t\t\t p : e\n",
      "\t\t\t h : e\n",
      "\t\t\t r : p\n",
      "\t\t\t o : e\n",
      "\t\t\t y : e\n",
      "\t\t\t b : e\n",
      "\t f : p\n",
      "\t c : p\n",
      "\t y : p\n",
      "\t s : p\n",
      "\t m : p\n"
     ]
    }
   ],
   "source": [
    "mushroom = pd.read_csv('./mushrooms.csv')\n",
    "\n",
    "CART(mushroom,'class')"
   ]
  }
 ],
 "metadata": {
  "kernelspec": {
   "display_name": "Python 3",
   "language": "python",
   "name": "python3"
  },
  "language_info": {
   "codemirror_mode": {
    "name": "ipython",
    "version": 3
   },
   "file_extension": ".py",
   "mimetype": "text/x-python",
   "name": "python",
   "nbconvert_exporter": "python",
   "pygments_lexer": "ipython3",
   "version": "3.11.3"
  },
  "orig_nbformat": 4
 },
 "nbformat": 4,
 "nbformat_minor": 2
}
